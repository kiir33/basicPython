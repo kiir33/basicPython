{
 "cells": [
  {
   "cell_type": "code",
   "execution_count": 1,
   "metadata": {},
   "outputs": [],
   "source": [
    "import pandas as pd\n",
    "import numpy as np\n",
    "import matplotlib.pyplot as plt"
   ]
  },
  {
   "cell_type": "code",
   "execution_count": 2,
   "metadata": {},
   "outputs": [
    {
     "data": {
      "text/html": [
       "<div>\n",
       "<style scoped>\n",
       "    .dataframe tbody tr th:only-of-type {\n",
       "        vertical-align: middle;\n",
       "    }\n",
       "\n",
       "    .dataframe tbody tr th {\n",
       "        vertical-align: top;\n",
       "    }\n",
       "\n",
       "    .dataframe thead th {\n",
       "        text-align: right;\n",
       "    }\n",
       "</style>\n",
       "<table border=\"1\" class=\"dataframe\">\n",
       "  <thead>\n",
       "    <tr style=\"text-align: right;\">\n",
       "      <th></th>\n",
       "      <th>ID</th>\n",
       "      <th>Name</th>\n",
       "      <th>Subject</th>\n",
       "      <th>Mark</th>\n",
       "    </tr>\n",
       "  </thead>\n",
       "  <tbody>\n",
       "    <tr>\n",
       "      <th>0</th>\n",
       "      <td>1</td>\n",
       "      <td>Ram</td>\n",
       "      <td>Science</td>\n",
       "      <td>90</td>\n",
       "    </tr>\n",
       "    <tr>\n",
       "      <th>1</th>\n",
       "      <td>1</td>\n",
       "      <td>Ram</td>\n",
       "      <td>Math</td>\n",
       "      <td>95</td>\n",
       "    </tr>\n",
       "    <tr>\n",
       "      <th>2</th>\n",
       "      <td>1</td>\n",
       "      <td>Ram</td>\n",
       "      <td>English</td>\n",
       "      <td>65</td>\n",
       "    </tr>\n",
       "    <tr>\n",
       "      <th>3</th>\n",
       "      <td>2</td>\n",
       "      <td>Hari</td>\n",
       "      <td>Science</td>\n",
       "      <td>85</td>\n",
       "    </tr>\n",
       "    <tr>\n",
       "      <th>4</th>\n",
       "      <td>2</td>\n",
       "      <td>Hari</td>\n",
       "      <td>Math</td>\n",
       "      <td>99</td>\n",
       "    </tr>\n",
       "    <tr>\n",
       "      <th>5</th>\n",
       "      <td>2</td>\n",
       "      <td>Hari</td>\n",
       "      <td>English</td>\n",
       "      <td>70</td>\n",
       "    </tr>\n",
       "  </tbody>\n",
       "</table>\n",
       "</div>"
      ],
      "text/plain": [
       "   ID  Name  Subject  Mark\n",
       "0   1   Ram  Science    90\n",
       "1   1   Ram     Math    95\n",
       "2   1   Ram  English    65\n",
       "3   2  Hari  Science    85\n",
       "4   2  Hari     Math    99\n",
       "5   2  Hari  English    70"
      ]
     },
     "execution_count": 2,
     "metadata": {},
     "output_type": "execute_result"
    }
   ],
   "source": [
    "df = pd.DataFrame({'ID': [1,1,1,2,2,2],\n",
    "                   'Name':['Ram','Ram','Ram','Hari','Hari','Hari'],\n",
    "                   'Subject':['Science','Math','English','Science','Math','English'],\n",
    "                   'Mark':[90,95,65,85,99,70]})\n",
    "df"
   ]
  },
  {
   "cell_type": "code",
   "execution_count": 3,
   "metadata": {},
   "outputs": [
    {
     "name": "stdout",
     "output_type": "stream",
     "text": [
      "[254, 250]\n",
      "[84.66666666666667, 83.33333333333333]\n"
     ]
    }
   ],
   "source": [
    "sum = []\n",
    "percent = []\n",
    "for name,mark in df.groupby('Name'):\n",
    "    sum.append(np.sum(mark['Mark']))\n",
    "print(sum)\n",
    "for x in sum:\n",
    "    percent.append(x/3)\n",
    "print(percent)\n",
    "\n",
    "#df['Total'] = df.groupby('Name')['Mark'].cumsum()\n",
    "#df['Percent'] = df['Total']/3\n",
    "#df\n",
    "#df['Total'] = sum"
   ]
  },
  {
   "cell_type": "code",
   "execution_count": 4,
   "metadata": {},
   "outputs": [
    {
     "name": "stdout",
     "output_type": "stream",
     "text": [
      "Name\n",
      "Hari    254\n",
      "Ram     250\n",
      "Name: Mark, dtype: int64\n",
      "Name\n",
      "Hari    84.666667\n",
      "Ram     83.333333\n",
      "Name: Mark, dtype: float64\n"
     ]
    }
   ],
   "source": [
    "Total = df.groupby('Name')['Mark'].sum()\n",
    "print(Total)\n",
    "percent = df.groupby('Name')['Mark'].sum()/3\n",
    "print(percent)\n",
    "#fig1, ax1 = plt.subplots()\n",
    "#ax1.pie(sum, labels = labels)"
   ]
  },
  {
   "cell_type": "code",
   "execution_count": 5,
   "metadata": {},
   "outputs": [
    {
     "data": {
      "image/png": "[encoded data removed]",
      "text/plain": [
       "<Figure size 432x288 with 1 Axes>"
      ]
     },
     "metadata": {},
     "output_type": "display_data"
    }
   ],
   "source": [
    "sub = df.groupby(['Name','Subject'])['Mark'].sum()\n",
    "a=sub['Hari'].plot.pie(autopct = '%.2f')\n",
    "a=plt.title('Hari\\'s Marks Distribution') "
   ]
  },
  {
   "cell_type": "code",
   "execution_count": 6,
   "metadata": {},
   "outputs": [
    {
     "data": {
      "image/png": "[encoded data removed]",
      "text/plain": [
       "<Figure size 432x288 with 1 Axes>"
      ]
     },
     "metadata": {},
     "output_type": "display_data"
    }
   ],
   "source": [
    "a=sub['Ram'].plot.pie(autopct='%.2f')\n",
    "a=plt.title(\"Ram\\'s Marks Distribution\")"
   ]
  },
  {
   "cell_type": "code",
   "execution_count": 7,
   "metadata": {},
   "outputs": [
    {
     "data": {
      "image/png": "[encoded data removed]",
      "text/plain": [
       "<Figure size 432x288 with 1 Axes>"
      ]
     },
     "metadata": {
      "needs_background": "light"
     },
     "output_type": "display_data"
    }
   ],
   "source": [
    "a=sub['Ram'].plot.bar()"
   ]
  },
  {
   "cell_type": "code",
   "execution_count": 23,
   "metadata": {},
   "outputs": [
    {
     "name": "stdout",
     "output_type": "stream",
     "text": [
      "   ID Name  Subject  Mark\n",
      "0   1  Ram  Science    90\n",
      "1   1  Ram     Math    95\n",
      "2   1  Ram  English    65\n",
      "\n",
      "\n",
      "   ID  Name  Subject  Mark\n",
      "3   2  Hari  Science    85\n",
      "4   2  Hari     Math    99\n",
      "5   2  Hari  English    70\n"
     ]
    }
   ],
   "source": [
    "print(df[:3])\n",
    "print('\\n')\n",
    "print(df[3:])"
   ]
  },
  {
   "cell_type": "code",
   "execution_count": 29,
   "metadata": {},
   "outputs": [
    {
     "name": "stdout",
     "output_type": "stream",
     "text": [
      "   Mark\n",
      "0    90\n",
      "1    95\n",
      "2    65\n"
     ]
    },
    {
     "data": {
      "text/plain": [
       "Mark    250\n",
       "dtype: int64"
      ]
     },
     "execution_count": 29,
     "metadata": {},
     "output_type": "execute_result"
    }
   ],
   "source": [
    "ram = df.iloc[:3,3:]\n",
    "print(ram)\n",
    "sum = ram.sum()\n",
    "sum"
   ]
  }
 ],
 "metadata": {
  "kernelspec": {
   "display_name": "Python 3",
   "language": "python",
   "name": "python3"
  },
  "language_info": {
   "codemirror_mode": {
    "name": "ipython",
    "version": 3
   },
   "file_extension": ".py",
   "mimetype": "text/x-python",
   "name": "python",
   "nbconvert_exporter": "python",
   "pygments_lexer": "ipython3",
   "version": "3.6.6"
  }
 },
 "nbformat": 4,
 "nbformat_minor": 2
}
