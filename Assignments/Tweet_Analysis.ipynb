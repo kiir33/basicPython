{
 "cells": [
  {
   "cell_type": "code",
   "execution_count": 1,
   "metadata": {},
   "outputs": [],
   "source": [
    "import tweepy           # To consume Twitter's API\n",
    "import pandas as pd     # To handle data\n",
    "import numpy as np      # For number computing\n",
    "\n",
    "# For plotting and visualization:\n",
    "from IPython.display import display\n",
    "import matplotlib.pyplot as plt\n",
    "import seaborn as sns\n",
    "%matplotlib inline"
   ]
  },
  {
   "cell_type": "code",
   "execution_count": 2,
   "metadata": {},
   "outputs": [],
   "source": [
    "access_token = \"633287737-JY8npppK9lxrSkLVCWmFQBxWef9IaL2xuucQCKAx\"\n",
    "access_secret = \"UL3TzRsoLV1v1go8ZqEFIVYBuWu7dHdJtHD5SjD5v9UJW\"\n",
    "consumer_key = \"TqOjrfWC2P3wIDLrLzOCcO7Ai\"\n",
    "consumer_secret = \"3B81LIujhSWlQR3I7Dl4Ms44Qx1egld1Wvk2oond5ga9o3wMjc\""
   ]
  },
  {
   "cell_type": "code",
   "execution_count": 3,
   "metadata": {},
   "outputs": [],
   "source": [
    "from credentials import *    # This will allow us to use the keys as variables\n",
    "\n",
    "# API's setup:\n",
    "def twitter_setup():\n",
    "    \"\"\"\n",
    "    Utility function to setup the Twitter's API\n",
    "    with our access keys provided.\n",
    "    \"\"\"\n",
    "    # Authentication and access using keys:\n",
    "    auth = tweepy.OAuthHandler(consumer_key, consumer_secret)\n",
    "    auth.set_access_token(access_token, access_secret)\n",
    "\n",
    "    # Return API with authentication:\n",
    "    api = tweepy.API(auth)\n",
    "    return api"
   ]
  },
  {
   "cell_type": "code",
   "execution_count": 4,
   "metadata": {},
   "outputs": [
    {
     "name": "stdout",
     "output_type": "stream",
     "text": [
      "Number of tweets extracted: 200.\n",
      "\n",
      "5 recent tweets:\n",
      "\n",
      "Proud to be an #Avenger. Congrats all! https://t.co/1nqFgQR13j\n",
      "\n",
      "Important News! #ChefsForFeds is expanding across the nation 🇺🇸 to serve those impacted by the shutdown. Join us an… https://t.co/PKHYvLibdu\n",
      "\n",
      "A natural addition @ChrisEvans https://t.co/zKAgyd9NNu\n",
      "\n",
      "\"Now it seems to me the place to start is at the beginning.\"\n",
      " Perry Mason\n",
      "“And it seems to me the beginning of any… https://t.co/rGR5oQKgUu\n",
      "\n",
      "@ChrisEvans hey @MarkRuffalo looks like Cap needs a little tutoring from the science bros.\n",
      "\n"
     ]
    }
   ],
   "source": [
    "# We create an extractor object:\n",
    "extractor = twitter_setup()\n",
    "\n",
    "# We create a tweet list as follows:\n",
    "tweets = extractor.user_timeline(screen_name=\"RobertDowneyJr\",count = 200)\n",
    "print(\"Number of tweets extracted: {}.\\n\".format(len(tweets)))\n",
    "\n",
    "# We print the most recent 5 tweets:\n",
    "print(\"5 recent tweets:\\n\")\n",
    "for tweet in tweets[:5]:\n",
    "    print(tweet.text)\n",
    "    print()"
   ]
  },
  {
   "cell_type": "code",
   "execution_count": 5,
   "metadata": {},
   "outputs": [
    {
     "data": {
      "text/html": [
       "<div>\n",
       "<style scoped>\n",
       "    .dataframe tbody tr th:only-of-type {\n",
       "        vertical-align: middle;\n",
       "    }\n",
       "\n",
       "    .dataframe tbody tr th {\n",
       "        vertical-align: top;\n",
       "    }\n",
       "\n",
       "    .dataframe thead th {\n",
       "        text-align: right;\n",
       "    }\n",
       "</style>\n",
       "<table border=\"1\" class=\"dataframe\">\n",
       "  <thead>\n",
       "    <tr style=\"text-align: right;\">\n",
       "      <th></th>\n",
       "      <th>Tweets</th>\n",
       "    </tr>\n",
       "  </thead>\n",
       "  <tbody>\n",
       "    <tr>\n",
       "      <th>0</th>\n",
       "      <td>Proud to be an #Avenger. Congrats all! https:/...</td>\n",
       "    </tr>\n",
       "    <tr>\n",
       "      <th>1</th>\n",
       "      <td>Important News! #ChefsForFeds is expanding acr...</td>\n",
       "    </tr>\n",
       "    <tr>\n",
       "      <th>2</th>\n",
       "      <td>A natural addition @ChrisEvans https://t.co/zK...</td>\n",
       "    </tr>\n",
       "    <tr>\n",
       "      <th>3</th>\n",
       "      <td>\"Now it seems to me the place to start is at t...</td>\n",
       "    </tr>\n",
       "    <tr>\n",
       "      <th>4</th>\n",
       "      <td>@ChrisEvans hey @MarkRuffalo looks like Cap ne...</td>\n",
       "    </tr>\n",
       "    <tr>\n",
       "      <th>5</th>\n",
       "      <td>I'm up for the challenge. Happy New Year, ever...</td>\n",
       "    </tr>\n",
       "    <tr>\n",
       "      <th>6</th>\n",
       "      <td>To my favorite dance partner... Happy birthday...</td>\n",
       "    </tr>\n",
       "    <tr>\n",
       "      <th>7</th>\n",
       "      <td>Merry Christmas from the man in the big red su...</td>\n",
       "    </tr>\n",
       "    <tr>\n",
       "      <th>8</th>\n",
       "      <td>✨ https://t.co/5q3LK9YK3I</td>\n",
       "    </tr>\n",
       "    <tr>\n",
       "      <th>9</th>\n",
       "      <td>Thanks for the holiday cheer @MarkRuffalo ! Le...</td>\n",
       "    </tr>\n",
       "  </tbody>\n",
       "</table>\n",
       "</div>"
      ],
      "text/plain": [
       "                                              Tweets\n",
       "0  Proud to be an #Avenger. Congrats all! https:/...\n",
       "1  Important News! #ChefsForFeds is expanding acr...\n",
       "2  A natural addition @ChrisEvans https://t.co/zK...\n",
       "3  \"Now it seems to me the place to start is at t...\n",
       "4  @ChrisEvans hey @MarkRuffalo looks like Cap ne...\n",
       "5  I'm up for the challenge. Happy New Year, ever...\n",
       "6  To my favorite dance partner... Happy birthday...\n",
       "7  Merry Christmas from the man in the big red su...\n",
       "8                          ✨ https://t.co/5q3LK9YK3I\n",
       "9  Thanks for the holiday cheer @MarkRuffalo ! Le..."
      ]
     },
     "metadata": {},
     "output_type": "display_data"
    }
   ],
   "source": [
    "# We create a pandas dataframe as follows:\n",
    "data = pd.DataFrame(data=[tweet.text for tweet in tweets], columns=['Tweets'])\n",
    "\n",
    "# We display the first 10 elements of the dataframe:\n",
    "display(data.head(10))"
   ]
  },
  {
   "cell_type": "code",
   "execution_count": 7,
   "metadata": {},
   "outputs": [],
   "source": [
    "import operator\n",
    "count = []\n",
    "dates = []\n",
    "for i in range(50):\n",
    "    count.append(tweets[i].retweet_count)\n",
    "    dates.append(str(tweets[i].created_at.date()))\n",
    "\n",
    "dictionary = dict(zip(dates, count))\n",
    "sorted_dict = sorted(dictionary.items(),  key=operator.itemgetter(0), reverse = True)\n",
    "plot_data = sorted_dict[:20]\n",
    "#data"
   ]
  },
  {
   "cell_type": "code",
   "execution_count": 8,
   "metadata": {},
   "outputs": [
    {
     "name": "stdout",
     "output_type": "stream",
     "text": [
      "Recent retweets count of Robert Downey Jr.\n"
     ]
    },
    {
     "data": {
      "image/png": "[encoded data removed]",
      "text/plain": [
       "<Figure size 432x288 with 1 Axes>"
      ]
     },
     "metadata": {
      "needs_background": "light"
     },
     "output_type": "display_data"
    }
   ],
   "source": [
    "print(\"Recent retweets count of Robert Downey Jr.\")\n",
    "plt.bar(*zip(*plot_data),0.5)\n",
    "plt.xticks(rotation='vertical')\n",
    "plt.show()"
   ]
  },
  {
   "cell_type": "code",
   "execution_count": 9,
   "metadata": {},
   "outputs": [],
   "source": [
    "data['len']  = np.array([len(tweet.text) for tweet in tweets])\n",
    "data['ID']   = np.array([tweet.id for tweet in tweets])\n",
    "data['Date'] = np.array([tweet.created_at for tweet in tweets])\n",
    "data['Source'] = np.array([tweet.source for tweet in tweets])\n",
    "data['Likes']  = np.array([tweet.favorite_count for tweet in tweets])\n",
    "data['RTs']    = np.array([tweet.retweet_count for tweet in tweets])"
   ]
  },
  {
   "cell_type": "code",
   "execution_count": 10,
   "metadata": {},
   "outputs": [
    {
     "data": {
      "text/html": [
       "<div>\n",
       "<style scoped>\n",
       "    .dataframe tbody tr th:only-of-type {\n",
       "        vertical-align: middle;\n",
       "    }\n",
       "\n",
       "    .dataframe tbody tr th {\n",
       "        vertical-align: top;\n",
       "    }\n",
       "\n",
       "    .dataframe thead th {\n",
       "        text-align: right;\n",
       "    }\n",
       "</style>\n",
       "<table border=\"1\" class=\"dataframe\">\n",
       "  <thead>\n",
       "    <tr style=\"text-align: right;\">\n",
       "      <th></th>\n",
       "      <th>Tweets</th>\n",
       "      <th>len</th>\n",
       "      <th>ID</th>\n",
       "      <th>Date</th>\n",
       "      <th>Source</th>\n",
       "      <th>Likes</th>\n",
       "      <th>RTs</th>\n",
       "    </tr>\n",
       "  </thead>\n",
       "  <tbody>\n",
       "    <tr>\n",
       "      <th>0</th>\n",
       "      <td>Proud to be an #Avenger. Congrats all! https:/...</td>\n",
       "      <td>62</td>\n",
       "      <td>1087878174111744000</td>\n",
       "      <td>2019-01-23 01:02:23</td>\n",
       "      <td>Twitter Web Client</td>\n",
       "      <td>170198</td>\n",
       "      <td>19882</td>\n",
       "    </tr>\n",
       "    <tr>\n",
       "      <th>1</th>\n",
       "      <td>Important News! #ChefsForFeds is expanding acr...</td>\n",
       "      <td>140</td>\n",
       "      <td>1087392213326168064</td>\n",
       "      <td>2019-01-21 16:51:21</td>\n",
       "      <td>Twitter Web Client</td>\n",
       "      <td>22781</td>\n",
       "      <td>3202</td>\n",
       "    </tr>\n",
       "    <tr>\n",
       "      <th>2</th>\n",
       "      <td>A natural addition @ChrisEvans https://t.co/zK...</td>\n",
       "      <td>54</td>\n",
       "      <td>1085213269588103172</td>\n",
       "      <td>2019-01-15 16:33:00</td>\n",
       "      <td>Twitter Media Studio</td>\n",
       "      <td>359855</td>\n",
       "      <td>71431</td>\n",
       "    </tr>\n",
       "    <tr>\n",
       "      <th>3</th>\n",
       "      <td>\"Now it seems to me the place to start is at t...</td>\n",
       "      <td>139</td>\n",
       "      <td>1084903953941245955</td>\n",
       "      <td>2019-01-14 20:03:53</td>\n",
       "      <td>Twitter Web Client</td>\n",
       "      <td>55723</td>\n",
       "      <td>5332</td>\n",
       "    </tr>\n",
       "    <tr>\n",
       "      <th>4</th>\n",
       "      <td>@ChrisEvans hey @MarkRuffalo looks like Cap ne...</td>\n",
       "      <td>90</td>\n",
       "      <td>1082428211617615872</td>\n",
       "      <td>2019-01-08 00:06:10</td>\n",
       "      <td>Twitter Web Client</td>\n",
       "      <td>247412</td>\n",
       "      <td>38897</td>\n",
       "    </tr>\n",
       "    <tr>\n",
       "      <th>5</th>\n",
       "      <td>I'm up for the challenge. Happy New Year, ever...</td>\n",
       "      <td>75</td>\n",
       "      <td>1079810209109794820</td>\n",
       "      <td>2018-12-31 18:43:10</td>\n",
       "      <td>Twitter Web Client</td>\n",
       "      <td>203233</td>\n",
       "      <td>32850</td>\n",
       "    </tr>\n",
       "    <tr>\n",
       "      <th>6</th>\n",
       "      <td>To my favorite dance partner... Happy birthday...</td>\n",
       "      <td>71</td>\n",
       "      <td>1079073304932044800</td>\n",
       "      <td>2018-12-29 17:54:58</td>\n",
       "      <td>Twitter Web Client</td>\n",
       "      <td>173339</td>\n",
       "      <td>23679</td>\n",
       "    </tr>\n",
       "    <tr>\n",
       "      <th>7</th>\n",
       "      <td>Merry Christmas from the man in the big red su...</td>\n",
       "      <td>73</td>\n",
       "      <td>1077601930954780672</td>\n",
       "      <td>2018-12-25 16:28:15</td>\n",
       "      <td>Twitter Web Client</td>\n",
       "      <td>274974</td>\n",
       "      <td>46066</td>\n",
       "    </tr>\n",
       "    <tr>\n",
       "      <th>8</th>\n",
       "      <td>✨ https://t.co/5q3LK9YK3I</td>\n",
       "      <td>25</td>\n",
       "      <td>1076546785349226496</td>\n",
       "      <td>2018-12-22 18:35:29</td>\n",
       "      <td>Twitter Web Client</td>\n",
       "      <td>27712</td>\n",
       "      <td>2333</td>\n",
       "    </tr>\n",
       "    <tr>\n",
       "      <th>9</th>\n",
       "      <td>Thanks for the holiday cheer @MarkRuffalo ! Le...</td>\n",
       "      <td>140</td>\n",
       "      <td>1076530782707957761</td>\n",
       "      <td>2018-12-22 17:31:54</td>\n",
       "      <td>Twitter Web Client</td>\n",
       "      <td>64808</td>\n",
       "      <td>8365</td>\n",
       "    </tr>\n",
       "  </tbody>\n",
       "</table>\n",
       "</div>"
      ],
      "text/plain": [
       "                                              Tweets  len  \\\n",
       "0  Proud to be an #Avenger. Congrats all! https:/...   62   \n",
       "1  Important News! #ChefsForFeds is expanding acr...  140   \n",
       "2  A natural addition @ChrisEvans https://t.co/zK...   54   \n",
       "3  \"Now it seems to me the place to start is at t...  139   \n",
       "4  @ChrisEvans hey @MarkRuffalo looks like Cap ne...   90   \n",
       "5  I'm up for the challenge. Happy New Year, ever...   75   \n",
       "6  To my favorite dance partner... Happy birthday...   71   \n",
       "7  Merry Christmas from the man in the big red su...   73   \n",
       "8                          ✨ https://t.co/5q3LK9YK3I   25   \n",
       "9  Thanks for the holiday cheer @MarkRuffalo ! Le...  140   \n",
       "\n",
       "                    ID                Date                Source   Likes  \\\n",
       "0  1087878174111744000 2019-01-23 01:02:23    Twitter Web Client  170198   \n",
       "1  1087392213326168064 2019-01-21 16:51:21    Twitter Web Client   22781   \n",
       "2  1085213269588103172 2019-01-15 16:33:00  Twitter Media Studio  359855   \n",
       "3  1084903953941245955 2019-01-14 20:03:53    Twitter Web Client   55723   \n",
       "4  1082428211617615872 2019-01-08 00:06:10    Twitter Web Client  247412   \n",
       "5  1079810209109794820 2018-12-31 18:43:10    Twitter Web Client  203233   \n",
       "6  1079073304932044800 2018-12-29 17:54:58    Twitter Web Client  173339   \n",
       "7  1077601930954780672 2018-12-25 16:28:15    Twitter Web Client  274974   \n",
       "8  1076546785349226496 2018-12-22 18:35:29    Twitter Web Client   27712   \n",
       "9  1076530782707957761 2018-12-22 17:31:54    Twitter Web Client   64808   \n",
       "\n",
       "     RTs  \n",
       "0  19882  \n",
       "1   3202  \n",
       "2  71431  \n",
       "3   5332  \n",
       "4  38897  \n",
       "5  32850  \n",
       "6  23679  \n",
       "7  46066  \n",
       "8   2333  \n",
       "9   8365  "
      ]
     },
     "metadata": {},
     "output_type": "display_data"
    }
   ],
   "source": [
    "display(data.head(10))"
   ]
  },
  {
   "cell_type": "code",
   "execution_count": 11,
   "metadata": {},
   "outputs": [
    {
     "name": "stdout",
     "output_type": "stream",
     "text": [
      "The tweet with more likes is: \n",
      "All the way down to the eye color. https://t.co/bUdp70z7bq\n",
      "Number of likes: 385431\n",
      "58 characters.\n",
      "\n",
      "The tweet with more retweets is: \n",
      "One word: accurate. https://t.co/j0p22Mp0rX\n",
      "Number of retweets: 82788\n",
      "43 characters.\n",
      "\n"
     ]
    }
   ],
   "source": [
    "fav_max = np.max(data['Likes'])\n",
    "rt_max  = np.max(data['RTs'])\n",
    "\n",
    "fav = data[data.Likes == fav_max].index[0]\n",
    "rt  = data[data.RTs == rt_max].index[0]\n",
    "\n",
    "# Max FAVs:\n",
    "print(\"The tweet with more likes is: \\n{}\".format(data['Tweets'][fav]))\n",
    "print(\"Number of likes: {}\".format(fav_max))\n",
    "print(\"{} characters.\\n\".format(data['len'][fav]))\n",
    "\n",
    "# Max RTs:\n",
    "print(\"The tweet with more retweets is: \\n{}\".format(data['Tweets'][rt]))\n",
    "print(\"Number of retweets: {}\".format(rt_max))\n",
    "print(\"{} characters.\\n\".format(data['len'][rt]))"
   ]
  },
  {
   "cell_type": "code",
   "execution_count": null,
   "metadata": {},
   "outputs": [],
   "source": [
    "tlen = pd.Series(data=data['len'].values, index=data['Date'])\n",
    "tfav = pd.Series(data=data['Likes'].values, index=data['Date'])\n",
    "tret = pd.Series(data=data['RTs'].values, index=data['Date'])"
   ]
  },
  {
   "cell_type": "code",
   "execution_count": null,
   "metadata": {},
   "outputs": [],
   "source": [
    "tfav.plot(figsize=(16,4), color='r',legend = True,label = 'Fav_Count')\n",
    "tret.plot(figsize=(16,4), color='b',legend = True, label = 'Retweet_Count')"
   ]
  },
  {
   "cell_type": "code",
   "execution_count": null,
   "metadata": {},
   "outputs": [],
   "source": [
    "tlen.plot(figsize=(20,4), color='r',legend = True, label='Tweet_Lengths')"
   ]
  },
  {
   "cell_type": "code",
   "execution_count": null,
   "metadata": {},
   "outputs": [],
   "source": [
    "#For Pie Chart\n",
    "# We obtain all possible sources:\n",
    "sources = []\n",
    "for source in data['Source']:\n",
    "    if source not in sources:\n",
    "        sources.append(source)\n",
    "\n",
    "# We print sources list:\n",
    "print(\"Creation of content sources:\")\n",
    "for source in sources:\n",
    "    print(\"* {}\".format(source))"
   ]
  },
  {
   "cell_type": "code",
   "execution_count": null,
   "metadata": {},
   "outputs": [],
   "source": [
    "# We create a numpy vector mapped to labels:\n",
    "percent = np.zeros(len(sources))\n",
    "\n",
    "for source in data['Source']:\n",
    "    for index in range(len(sources)):\n",
    "        if source == sources[index]:\n",
    "            percent[index] += 1\n",
    "            pass\n",
    "\n",
    "percent /= 100\n",
    "\n",
    "# Pie chart:\n",
    "pie_chart = pd.Series(percent, index=sources, name='Sources')\n",
    "pie_chart.plot.pie(fontsize=11, autopct='%.2f', figsize=(6, 6));"
   ]
  },
  {
   "cell_type": "code",
   "execution_count": null,
   "metadata": {},
   "outputs": [],
   "source": [
    "from textblob import TextBlob\n",
    "import re\n",
    "\n",
    "def clean_tweet(tweet):\n",
    "    '''\n",
    "    Utility function to clean the text in a tweet by removing \n",
    "    links and special characters using regex.\n",
    "    '''\n",
    "    return ' '.join(re.sub(\"(@[A-Za-z0-9]+)|([^0-9A-Za-z \\t])|(\\w+:\\/\\/\\S+)\", \" \", tweet).split())\n",
    "\n",
    "def analize_sentiment(tweet):\n",
    "    '''\n",
    "    Utility function to classify the polarity of a tweet\n",
    "    using textblob.\n",
    "    '''\n",
    "    analysis = TextBlob(clean_tweet(tweet))\n",
    "    if analysis.sentiment.polarity > 0:\n",
    "        return 1\n",
    "    elif analysis.sentiment.polarity == 0:\n",
    "        return 0\n",
    "    else:\n",
    "        return -1"
   ]
  },
  {
   "cell_type": "code",
   "execution_count": null,
   "metadata": {},
   "outputs": [],
   "source": [
    "# We create a column with the result of the analysis:\n",
    "data['SA'] = np.array([ analize_sentiment(tweet) for tweet in data['Tweets'] ])\n",
    "\n",
    "# We display the updated dataframe with the new column:\n",
    "#data[data['SA']== -1]"
   ]
  },
  {
   "cell_type": "code",
   "execution_count": null,
   "metadata": {},
   "outputs": [],
   "source": [
    "# We construct lists with classified tweets:\n",
    "\n",
    "pos_tweets = [ tweet for index, tweet in enumerate(data['Tweets']) if data['SA'][index] > 0]\n",
    "neu_tweets = [ tweet for index, tweet in enumerate(data['Tweets']) if data['SA'][index] == 0]\n",
    "neg_tweets = [ tweet for index, tweet in enumerate(data['Tweets']) if data['SA'][index] < 0]\n",
    "\n",
    "pos_percent = len(pos_tweets)*100/len(data['Tweets'])\n",
    "neu_percent = len(neu_tweets)*100/len(data['Tweets'])\n",
    "neg_percent = len(neg_tweets)*100/len(data['Tweets'])\n",
    "# We print percentages:\n",
    "\n",
    "print(\"Percentage of positive tweets: {}%\".format(pos_percent))\n",
    "print(\"Percentage of neutral tweets: {}%\".format(neu_percent))\n",
    "print(\"Percentage de negative tweets: {}%\".format(neg_percent))"
   ]
  },
  {
   "cell_type": "code",
   "execution_count": null,
   "metadata": {},
   "outputs": [],
   "source": [
    "piechart = pd.Series(np.array([pos_percent,neu_percent,neg_percent]), \\\n",
    "                     index = ['Positive','Neutral','Negative'], name = 'Tweets Sentiments')\n",
    "x=piechart.plot.pie(fontsize=11, autopct='%.2f', figsize=(6, 6))"
   ]
  }
 ],
 "metadata": {
  "kernelspec": {
   "display_name": "Python 3",
   "language": "python",
   "name": "python3"
  },
  "language_info": {
   "codemirror_mode": {
    "name": "ipython",
    "version": 3
   },
   "file_extension": ".py",
   "mimetype": "text/x-python",
   "name": "python",
   "nbconvert_exporter": "python",
   "pygments_lexer": "ipython3",
   "version": "3.6.6"
  }
 },
 "nbformat": 4,
 "nbformat_minor": 2
}
