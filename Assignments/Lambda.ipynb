{
 "cells": [
  {
   "cell_type": "code",
   "execution_count": 1,
   "metadata": {},
   "outputs": [
    {
     "name": "stdout",
     "output_type": "stream",
     "text": [
      "12\n"
     ]
    }
   ],
   "source": [
    "x = lambda a : a + 10\n",
    "print(x(2))"
   ]
  },
  {
   "cell_type": "code",
   "execution_count": 2,
   "metadata": {},
   "outputs": [
    {
     "name": "stdout",
     "output_type": "stream",
     "text": [
      "15\n"
     ]
    }
   ],
   "source": [
    "x = lambda a,b,c : a*2 + b*2 + c*3\n",
    "print(x(1,2,3))"
   ]
  },
  {
   "cell_type": "code",
   "execution_count": 12,
   "metadata": {},
   "outputs": [
    {
     "name": "stdout",
     "output_type": "stream",
     "text": [
      "15\n"
     ]
    }
   ],
   "source": [
    "def multiplier(n):\n",
    "    return lambda a : a*n\n",
    "x=multiplier(3)\n",
    "print(x(5))"
   ]
  },
  {
   "cell_type": "code",
   "execution_count": 22,
   "metadata": {},
   "outputs": [
    {
     "name": "stdout",
     "output_type": "stream",
     "text": [
      "1  x  1 \t=  1\n",
      "1  x  2 \t=  2\n",
      "1  x  3 \t=  3\n",
      "1  x  4 \t=  4\n",
      "1  x  5 \t=  5\n",
      "1  x  6 \t=  6\n",
      "1  x  7 \t=  7\n",
      "1  x  8 \t=  8\n",
      "1  x  9 \t=  9\n",
      "1  x  10 \t=  10\n",
      "\n",
      "\n",
      "2  x  1 \t=  2\n",
      "2  x  2 \t=  4\n",
      "2  x  3 \t=  6\n",
      "2  x  4 \t=  8\n",
      "2  x  5 \t=  10\n",
      "2  x  6 \t=  12\n",
      "2  x  7 \t=  14\n",
      "2  x  8 \t=  16\n",
      "2  x  9 \t=  18\n",
      "2  x  10 \t=  20\n",
      "\n",
      "\n",
      "3  x  1 \t=  3\n",
      "3  x  2 \t=  6\n",
      "3  x  3 \t=  9\n",
      "3  x  4 \t=  12\n",
      "3  x  5 \t=  15\n",
      "3  x  6 \t=  18\n",
      "3  x  7 \t=  21\n",
      "3  x  8 \t=  24\n",
      "3  x  9 \t=  27\n",
      "3  x  10 \t=  30\n",
      "\n",
      "\n",
      "4  x  1 \t=  4\n",
      "4  x  2 \t=  8\n",
      "4  x  3 \t=  12\n",
      "4  x  4 \t=  16\n",
      "4  x  5 \t=  20\n",
      "4  x  6 \t=  24\n",
      "4  x  7 \t=  28\n",
      "4  x  8 \t=  32\n",
      "4  x  9 \t=  36\n",
      "4  x  10 \t=  40\n",
      "\n",
      "\n",
      "5  x  1 \t=  5\n",
      "5  x  2 \t=  10\n",
      "5  x  3 \t=  15\n",
      "5  x  4 \t=  20\n",
      "5  x  5 \t=  25\n",
      "5  x  6 \t=  30\n",
      "5  x  7 \t=  35\n",
      "5  x  8 \t=  40\n",
      "5  x  9 \t=  45\n",
      "5  x  10 \t=  50\n",
      "\n",
      "\n"
     ]
    }
   ],
   "source": [
    "def multiplier(n):\n",
    "    return lambda a : a*n\n",
    "for j in range(5):\n",
    "    x=multiplier(j+1)\n",
    "    for i in range(10):\n",
    "        print(j+1,' x ',i+1,'\\t= ',x(i+1))\n",
    "    print('\\n')"
   ]
  }
 ],
 "metadata": {
  "kernelspec": {
   "display_name": "Python 3",
   "language": "python",
   "name": "python3"
  },
  "language_info": {
   "codemirror_mode": {
    "name": "ipython",
    "version": 3
   },
   "file_extension": ".py",
   "mimetype": "text/x-python",
   "name": "python",
   "nbconvert_exporter": "python",
   "pygments_lexer": "ipython3",
   "version": "3.6.6"
  }
 },
 "nbformat": 4,
 "nbformat_minor": 2
}
