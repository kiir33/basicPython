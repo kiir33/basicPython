{
 "cells": [
  {
   "cell_type": "code",
   "execution_count": 2,
   "metadata": {},
   "outputs": [],
   "source": [
    "import pandas as pd"
   ]
  },
  {
   "cell_type": "code",
   "execution_count": 6,
   "metadata": {},
   "outputs": [],
   "source": [
    "x= 100\n",
    "data = pd.DataFrame([{'c1':1,'c2':2, 'c3':100},\n",
    "                    {'c1':2,'c2':3, 'c3':50},\n",
    "                    {'c1':3,'c2':9, 'c3':75},\n",
    "                    {'c1':4,'c2':4, 'c3':90}])\n",
    "data ['c4'] = data ['c3'].cumsum()"
   ]
  },
  {
   "cell_type": "code",
   "execution_count": 7,
   "metadata": {},
   "outputs": [
    {
     "name": "stdout",
     "output_type": "stream",
     "text": [
      "   c1  c2   c3   c4\n",
      "0   1   2  100  100\n",
      "1   2   3   50  150\n",
      "2   3   9   75  225\n",
      "3   4   4   90  315\n"
     ]
    }
   ],
   "source": [
    "print (data)"
   ]
  }
 ],
 "metadata": {
  "kernelspec": {
   "display_name": "Python 3",
   "language": "python",
   "name": "python3"
  },
  "language_info": {
   "codemirror_mode": {
    "name": "ipython",
    "version": 3
   },
   "file_extension": ".py",
   "mimetype": "text/x-python",
   "name": "python",
   "nbconvert_exporter": "python",
   "pygments_lexer": "ipython3",
   "version": "3.6.6"
  }
 },
 "nbformat": 4,
 "nbformat_minor": 2
}
